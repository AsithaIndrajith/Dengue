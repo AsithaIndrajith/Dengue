{
  "nbformat": 4,
  "nbformat_minor": 0,
  "metadata": {
    "colab": {
      "name": "asitha_labsheet2",
      "provenance": [],
      "collapsed_sections": [],
      "include_colab_link": true
    },
    "kernelspec": {
      "name": "python3",
      "display_name": "Python 3"
    },
    "accelerator": "GPU"
  },
  "cells": [
    {
      "cell_type": "markdown",
      "metadata": {
        "id": "view-in-github",
        "colab_type": "text"
      },
      "source": [
        "<a href=\"https://colab.research.google.com/github/AsithaIndrajith/Dengue/blob/master/asitha_labsheet2.ipynb\" target=\"_parent\"><img src=\"https://colab.research.google.com/assets/colab-badge.svg\" alt=\"Open In Colab\"/></a>"
      ]
    },
    {
      "cell_type": "markdown",
      "metadata": {
        "id": "DjGLskwojfHR"
      },
      "source": [
        "# **Accessing\ttext corpora**"
      ]
    },
    {
      "cell_type": "markdown",
      "metadata": {
        "id": "SStBGyk3j3fp"
      },
      "source": [
        "##\tload\tthe\tBrown\tCorpus"
      ]
    },
    {
      "cell_type": "code",
      "metadata": {
        "id": "Lalj-cr1QnIs",
        "outputId": "84771876-d7e7-44a3-b683-d49d72d123c8",
        "colab": {
          "base_uri": "https://localhost:8080/"
        }
      },
      "source": [
        "import nltk\n",
        "nltk.download('brown')\n",
        "from\tnltk.corpus\timport\tbrown\n",
        "print\t('Total\tCategories:',\tlen(brown.categories()))"
      ],
      "execution_count": 55,
      "outputs": [
        {
          "output_type": "stream",
          "text": [
            "[nltk_data] Downloading package brown to /root/nltk_data...\n",
            "[nltk_data]   Package brown is already up-to-date!\n",
            "Total\tCategories: 15\n"
          ],
          "name": "stdout"
        }
      ]
    },
    {
      "cell_type": "code",
      "metadata": {
        "id": "EbrwN-NSRq2Z",
        "outputId": "5b46a9e2-d0d0-4f6a-9153-00165916c366",
        "colab": {
          "base_uri": "https://localhost:8080/"
        }
      },
      "source": [
        "print(brown.categories())"
      ],
      "execution_count": 56,
      "outputs": [
        {
          "output_type": "stream",
          "text": [
            "['adventure', 'belles_lettres', 'editorial', 'fiction', 'government', 'hobbies', 'humor', 'learned', 'lore', 'mystery', 'news', 'religion', 'reviews', 'romance', 'science_fiction']\n"
          ],
          "name": "stdout"
        }
      ]
    },
    {
      "cell_type": "markdown",
      "metadata": {
        "id": "Z0Rq8_InkIY5"
      },
      "source": [
        "##\ttokenized\tsentences"
      ]
    },
    {
      "cell_type": "code",
      "metadata": {
        "id": "7z_cnFATR56H",
        "outputId": "ec0e5573-8c1d-4f22-9dc1-a1dfe5ecb966",
        "colab": {
          "base_uri": "https://localhost:8080/"
        }
      },
      "source": [
        "brown.sents(categories='mystery')"
      ],
      "execution_count": 57,
      "outputs": [
        {
          "output_type": "execute_result",
          "data": {
            "text/plain": [
              "[['There', 'were', 'thirty-eight', 'patients', 'on', 'the', 'bus', 'the', 'morning', 'I', 'left', 'for', 'Hanover', ',', 'most', 'of', 'them', 'disturbed', 'and', 'hallucinating', '.'], ['An', 'interne', ',', 'a', 'nurse', 'and', 'two', 'attendants', 'were', 'in', 'charge', 'of', 'us', '.'], ...]"
            ]
          },
          "metadata": {
            "tags": []
          },
          "execution_count": 57
        }
      ]
    },
    {
      "cell_type": "markdown",
      "metadata": {
        "id": "AbQLwTPTkLgZ"
      },
      "source": [
        "##\tPOS\ttagged\tsentences"
      ]
    },
    {
      "cell_type": "code",
      "metadata": {
        "id": "kQQcLTeNSHhM",
        "outputId": "6a967fca-4651-49b4-a4fe-52863f4f77c1",
        "colab": {
          "base_uri": "https://localhost:8080/"
        }
      },
      "source": [
        "brown.tagged_sents(categories='mystery')"
      ],
      "execution_count": 58,
      "outputs": [
        {
          "output_type": "execute_result",
          "data": {
            "text/plain": [
              "[[('There', 'EX'), ('were', 'BED'), ('thirty-eight', 'CD'), ('patients', 'NNS'), ('on', 'IN'), ('the', 'AT'), ('bus', 'NN'), ('the', 'AT'), ('morning', 'NN'), ('I', 'PPSS'), ('left', 'VBD'), ('for', 'IN'), ('Hanover', 'NP'), (',', ','), ('most', 'AP'), ('of', 'IN'), ('them', 'PPO'), ('disturbed', 'VBN'), ('and', 'CC'), ('hallucinating', 'VBG'), ('.', '.')], [('An', 'AT'), ('interne', 'NN'), (',', ','), ('a', 'AT'), ('nurse', 'NN'), ('and', 'CC'), ('two', 'CD'), ('attendants', 'NNS'), ('were', 'BED'), ('in', 'IN'), ('charge', 'NN'), ('of', 'IN'), ('us', 'PPO'), ('.', '.')], ...]"
            ]
          },
          "metadata": {
            "tags": []
          },
          "execution_count": 58
        }
      ]
    },
    {
      "cell_type": "markdown",
      "metadata": {
        "id": "8g5HiDuBkQLg"
      },
      "source": [
        "##\tget\tsentences\tin\tnatural\tform"
      ]
    },
    {
      "cell_type": "code",
      "metadata": {
        "id": "U-20pAE9ST2C",
        "outputId": "e12727b1-9bac-4894-d3c6-5984b3034f7d",
        "colab": {
          "base_uri": "https://localhost:8080/"
        }
      },
      "source": [
        "sentences\t=\tbrown.sents(categories='mystery')\n",
        "sentences\t=\t[' '.join(sentence_token)\tfor\tsentence_token\tin sentences]\n",
        "print(sentences[0:5]) #\tprinting\tfirst\t5\tsentences"
      ],
      "execution_count": 59,
      "outputs": [
        {
          "output_type": "stream",
          "text": [
            "['There were thirty-eight patients on the bus the morning I left for Hanover , most of them disturbed and hallucinating .', 'An interne , a nurse and two attendants were in charge of us .', \"I felt lonely and depressed as I stared out the bus window at Chicago's grim , dirty West Side .\", 'It seemed incredible , as I listened to the monotonous drone of voices and smelled the fetid odors coming from the patients , that technically I was a ward of the state of Illinois , going to a hospital for the mentally ill .', 'I suddenly thought of Mary Jane Brennan , the way her pretty eyes could flash with anger , her quiet competence , the gentleness and sweetness that lay just beneath the surface of her defenses .']\n"
          ],
          "name": "stdout"
        }
      ]
    },
    {
      "cell_type": "markdown",
      "metadata": {
        "id": "hOyvP00QkTfh"
      },
      "source": [
        "## get\ttagged\twords"
      ]
    },
    {
      "cell_type": "code",
      "metadata": {
        "id": "Un6jPFadSxjT"
      },
      "source": [
        "tagged_words\t=\tbrown.tagged_words(categories='mystery')"
      ],
      "execution_count": 60,
      "outputs": []
    },
    {
      "cell_type": "markdown",
      "metadata": {
        "id": "-MJldUKokbhp"
      },
      "source": [
        "##\tget\tnouns\tfrom\ttagged\twords"
      ]
    },
    {
      "cell_type": "code",
      "metadata": {
        "id": "ggfjokhSkXUx",
        "outputId": "841871ad-f38e-4bdf-ec78-2c28230a2495",
        "colab": {
          "base_uri": "https://localhost:8080/"
        }
      },
      "source": [
        "nouns\t=\t[(word,\ttag)\tfor\tword,\ttag\tin\ttagged_words\tif\tany(noun_tag in\ttag\tfor\tnoun_tag in\t['NP', 'NN'])]\n",
        "print(nouns[0:10]) #\tprints\tthe\tfirst\t10\tnouns"
      ],
      "execution_count": 61,
      "outputs": [
        {
          "output_type": "stream",
          "text": [
            "[('patients', 'NNS'), ('bus', 'NN'), ('morning', 'NN'), ('Hanover', 'NP'), ('interne', 'NN'), ('nurse', 'NN'), ('attendants', 'NNS'), ('charge', 'NN'), ('bus', 'NN'), ('window', 'NN')]\n"
          ],
          "name": "stdout"
        }
      ]
    },
    {
      "cell_type": "markdown",
      "metadata": {
        "id": "mcnIC_mukdjR"
      },
      "source": [
        "##\tfileid\tbased\taccess"
      ]
    },
    {
      "cell_type": "code",
      "metadata": {
        "id": "7bEYJjQVTQ7v",
        "outputId": "f7b52b00-2606-446c-b7f9-c7aee785baf4",
        "colab": {
          "base_uri": "https://localhost:8080/"
        }
      },
      "source": [
        "nltk.download('reuters')\n",
        "from\tnltk.corpus\timport\treuters\n",
        "print(reuters.fileids(categories=['housing','income']))"
      ],
      "execution_count": 62,
      "outputs": [
        {
          "output_type": "stream",
          "text": [
            "[nltk_data] Downloading package reuters to /root/nltk_data...\n",
            "[nltk_data]   Package reuters is already up-to-date!\n",
            "['test/16118', 'test/18534', 'test/18540', 'test/18664', 'test/18665', 'test/18672', 'test/18911', 'test/19875', 'test/20106', 'test/20116', 'training/1035', 'training/1036', 'training/10602', 'training/10604', 'training/11170', 'training/11665', 'training/2618', 'training/29', 'training/3105', 'training/3708', 'training/3720', 'training/3723', 'training/3898', 'training/5883', 'training/5886', 'training/6000', 'training/6067', 'training/6197', 'training/7005', 'training/7006', 'training/7015', 'training/7036', 'training/7098', 'training/7099', 'training/9615']\n"
          ],
          "name": "stdout"
        }
      ]
    },
    {
      "cell_type": "code",
      "metadata": {
        "id": "ByuOa3ahUbTp",
        "outputId": "b5c911e9-901d-437a-a355-28a0c4740ec7",
        "colab": {
          "base_uri": "https://localhost:8080/"
        }
      },
      "source": [
        "nltk.download('punkt')\n",
        "print(reuters.sents(fileids=['test/16118','test/18534']))"
      ],
      "execution_count": 63,
      "outputs": [
        {
          "output_type": "stream",
          "text": [
            "[nltk_data] Downloading package punkt to /root/nltk_data...\n",
            "[nltk_data]   Package punkt is already up-to-date!\n",
            "[['YUGOSLAV', 'ECONOMY', 'WORSENED', 'IN', '1986', ',', 'BANK', 'DATA', 'SHOWS', 'National', 'Bank', 'economic', 'data', 'for', '1986', 'shows', 'that', 'Yugoslavia', \"'\", 's', 'trade', 'deficit', 'grew', ',', 'the', 'inflation', 'rate', 'rose', ',', 'wages', 'were', 'sharply', 'higher', ',', 'the', 'money', 'supply', 'expanded', 'and', 'the', 'value', 'of', 'the', 'dinar', 'fell', '.'], ['The', 'trade', 'deficit', 'for', '1986', 'was', '2', '.', '012', 'billion', 'dlrs', ',', '25', '.', '7', 'pct', 'higher', 'than', 'in', '1985', '.'], ...]\n"
          ],
          "name": "stdout"
        }
      ]
    },
    {
      "cell_type": "markdown",
      "metadata": {
        "id": "gJwGke9ckfrh"
      },
      "source": [
        "##\tload\tthe\tWordnet\tCorpus"
      ]
    },
    {
      "cell_type": "code",
      "metadata": {
        "id": "ngoiNstKU3sl",
        "outputId": "3e47bfec-d93d-4cf5-edee-7a20075923bb",
        "colab": {
          "base_uri": "https://localhost:8080/"
        }
      },
      "source": [
        "nltk.download('wordnet')\n",
        "from\tnltk.corpus\timport\twordnet\tas\twn\n",
        "word\t=\t'hike'\t#\ttaking\thike\tas\tour\tword\tof\tinterest\n",
        "#\tget\tword\tsynsets\n",
        "word_synsets\t=\twn.synsets(word)\n",
        "print(word_synsets)"
      ],
      "execution_count": 64,
      "outputs": [
        {
          "output_type": "stream",
          "text": [
            "[nltk_data] Downloading package wordnet to /root/nltk_data...\n",
            "[nltk_data]   Package wordnet is already up-to-date!\n",
            "[Synset('hike.n.01'), Synset('rise.n.09'), Synset('raise.n.01'), Synset('hike.v.01'), Synset('hike.v.02')]\n"
          ],
          "name": "stdout"
        }
      ]
    },
    {
      "cell_type": "markdown",
      "metadata": {
        "id": "fJDdDgnhkjtB"
      },
      "source": [
        "##\tget\tdetails\tfor\teach\tsynonym\tin\tsynset"
      ]
    },
    {
      "cell_type": "code",
      "metadata": {
        "id": "BEQvuKuRVeEm",
        "outputId": "fa603f47-4052-4a1e-a32c-f381ccb289b1",
        "colab": {
          "base_uri": "https://localhost:8080/"
        }
      },
      "source": [
        "for\tsynset\tin\tword_synsets:\n",
        "  print('Synset\tName:',\tsynset.name())\n",
        "  print('POS\tTag:',\tsynset.pos())\n",
        "  print('Definition:',\tsynset.definition())\n",
        "  print('Examples:',\tsynset.examples())\n",
        "  print()"
      ],
      "execution_count": 65,
      "outputs": [
        {
          "output_type": "stream",
          "text": [
            "Synset\tName: hike.n.01\n",
            "POS\tTag: n\n",
            "Definition: a long walk usually for exercise or pleasure\n",
            "Examples: ['she enjoys a hike in her spare time']\n",
            "\n",
            "Synset\tName: rise.n.09\n",
            "POS\tTag: n\n",
            "Definition: an increase in cost\n",
            "Examples: ['they asked for a 10% rise in rates']\n",
            "\n",
            "Synset\tName: raise.n.01\n",
            "POS\tTag: n\n",
            "Definition: the amount a salary is increased\n",
            "Examples: ['he got a 3% raise', 'he got a wage hike']\n",
            "\n",
            "Synset\tName: hike.v.01\n",
            "POS\tTag: v\n",
            "Definition: increase\n",
            "Examples: ['The landlord hiked up the rents']\n",
            "\n",
            "Synset\tName: hike.v.02\n",
            "POS\tTag: v\n",
            "Definition: walk a long way, as for pleasure or physical exercise\n",
            "Examples: ['We were hiking in Colorado', 'hike the Rockies']\n",
            "\n"
          ],
          "name": "stdout"
        }
      ]
    },
    {
      "cell_type": "markdown",
      "metadata": {
        "id": "X6LrxPMVkoUh"
      },
      "source": [
        "## Frequency Distributions (Optional)"
      ]
    },
    {
      "cell_type": "code",
      "metadata": {
        "id": "kULnYcwOVynj",
        "outputId": "f8eff2f2-536b-46a2-e949-1a64f2e9f772",
        "colab": {
          "base_uri": "https://localhost:8080/"
        }
      },
      "source": [
        "nltk.download('book')\n",
        "from nltk.book import *\n",
        "file1 = nltk.corpus.gutenberg.fileids( ) [0]\n",
        "emmatext = nltk.corpus.gutenberg.raw(file1)\n",
        "emmatokens = nltk.wordpunct_tokenize(emmatext)\n",
        "emmawords = [w.lower( ) for w in emmatokens]\n",
        "fdist = FreqDist(emmawords)\n",
        "fdist.most_common(50)"
      ],
      "execution_count": 66,
      "outputs": [
        {
          "output_type": "stream",
          "text": [
            "[nltk_data] Downloading collection 'book'\n",
            "[nltk_data]    | \n",
            "[nltk_data]    | Downloading package abc to /root/nltk_data...\n",
            "[nltk_data]    |   Package abc is already up-to-date!\n",
            "[nltk_data]    | Downloading package brown to /root/nltk_data...\n",
            "[nltk_data]    |   Package brown is already up-to-date!\n",
            "[nltk_data]    | Downloading package chat80 to /root/nltk_data...\n",
            "[nltk_data]    |   Package chat80 is already up-to-date!\n",
            "[nltk_data]    | Downloading package cmudict to /root/nltk_data...\n",
            "[nltk_data]    |   Package cmudict is already up-to-date!\n",
            "[nltk_data]    | Downloading package conll2000 to /root/nltk_data...\n",
            "[nltk_data]    |   Package conll2000 is already up-to-date!\n",
            "[nltk_data]    | Downloading package conll2002 to /root/nltk_data...\n",
            "[nltk_data]    |   Package conll2002 is already up-to-date!\n",
            "[nltk_data]    | Downloading package dependency_treebank to\n",
            "[nltk_data]    |     /root/nltk_data...\n",
            "[nltk_data]    |   Package dependency_treebank is already up-to-date!\n",
            "[nltk_data]    | Downloading package genesis to /root/nltk_data...\n",
            "[nltk_data]    |   Package genesis is already up-to-date!\n",
            "[nltk_data]    | Downloading package gutenberg to /root/nltk_data...\n",
            "[nltk_data]    |   Package gutenberg is already up-to-date!\n",
            "[nltk_data]    | Downloading package ieer to /root/nltk_data...\n",
            "[nltk_data]    |   Package ieer is already up-to-date!\n",
            "[nltk_data]    | Downloading package inaugural to /root/nltk_data...\n",
            "[nltk_data]    |   Package inaugural is already up-to-date!\n",
            "[nltk_data]    | Downloading package movie_reviews to\n",
            "[nltk_data]    |     /root/nltk_data...\n",
            "[nltk_data]    |   Package movie_reviews is already up-to-date!\n",
            "[nltk_data]    | Downloading package nps_chat to /root/nltk_data...\n",
            "[nltk_data]    |   Package nps_chat is already up-to-date!\n",
            "[nltk_data]    | Downloading package names to /root/nltk_data...\n",
            "[nltk_data]    |   Package names is already up-to-date!\n",
            "[nltk_data]    | Downloading package ppattach to /root/nltk_data...\n",
            "[nltk_data]    |   Package ppattach is already up-to-date!\n",
            "[nltk_data]    | Downloading package reuters to /root/nltk_data...\n",
            "[nltk_data]    |   Package reuters is already up-to-date!\n",
            "[nltk_data]    | Downloading package senseval to /root/nltk_data...\n",
            "[nltk_data]    |   Package senseval is already up-to-date!\n",
            "[nltk_data]    | Downloading package state_union to /root/nltk_data...\n",
            "[nltk_data]    |   Package state_union is already up-to-date!\n",
            "[nltk_data]    | Downloading package stopwords to /root/nltk_data...\n",
            "[nltk_data]    |   Package stopwords is already up-to-date!\n",
            "[nltk_data]    | Downloading package swadesh to /root/nltk_data...\n",
            "[nltk_data]    |   Package swadesh is already up-to-date!\n",
            "[nltk_data]    | Downloading package timit to /root/nltk_data...\n",
            "[nltk_data]    |   Package timit is already up-to-date!\n",
            "[nltk_data]    | Downloading package treebank to /root/nltk_data...\n",
            "[nltk_data]    |   Package treebank is already up-to-date!\n",
            "[nltk_data]    | Downloading package toolbox to /root/nltk_data...\n",
            "[nltk_data]    |   Package toolbox is already up-to-date!\n",
            "[nltk_data]    | Downloading package udhr to /root/nltk_data...\n",
            "[nltk_data]    |   Package udhr is already up-to-date!\n",
            "[nltk_data]    | Downloading package udhr2 to /root/nltk_data...\n",
            "[nltk_data]    |   Package udhr2 is already up-to-date!\n",
            "[nltk_data]    | Downloading package unicode_samples to\n",
            "[nltk_data]    |     /root/nltk_data...\n",
            "[nltk_data]    |   Package unicode_samples is already up-to-date!\n",
            "[nltk_data]    | Downloading package webtext to /root/nltk_data...\n",
            "[nltk_data]    |   Package webtext is already up-to-date!\n",
            "[nltk_data]    | Downloading package wordnet to /root/nltk_data...\n",
            "[nltk_data]    |   Package wordnet is already up-to-date!\n",
            "[nltk_data]    | Downloading package wordnet_ic to /root/nltk_data...\n",
            "[nltk_data]    |   Package wordnet_ic is already up-to-date!\n",
            "[nltk_data]    | Downloading package words to /root/nltk_data...\n",
            "[nltk_data]    |   Package words is already up-to-date!\n",
            "[nltk_data]    | Downloading package maxent_treebank_pos_tagger to\n",
            "[nltk_data]    |     /root/nltk_data...\n",
            "[nltk_data]    |   Package maxent_treebank_pos_tagger is already up-\n",
            "[nltk_data]    |       to-date!\n",
            "[nltk_data]    | Downloading package maxent_ne_chunker to\n",
            "[nltk_data]    |     /root/nltk_data...\n",
            "[nltk_data]    |   Package maxent_ne_chunker is already up-to-date!\n",
            "[nltk_data]    | Downloading package universal_tagset to\n",
            "[nltk_data]    |     /root/nltk_data...\n",
            "[nltk_data]    |   Package universal_tagset is already up-to-date!\n",
            "[nltk_data]    | Downloading package punkt to /root/nltk_data...\n",
            "[nltk_data]    |   Package punkt is already up-to-date!\n",
            "[nltk_data]    | Downloading package book_grammars to\n",
            "[nltk_data]    |     /root/nltk_data...\n",
            "[nltk_data]    |   Package book_grammars is already up-to-date!\n",
            "[nltk_data]    | Downloading package city_database to\n",
            "[nltk_data]    |     /root/nltk_data...\n",
            "[nltk_data]    |   Package city_database is already up-to-date!\n",
            "[nltk_data]    | Downloading package tagsets to /root/nltk_data...\n",
            "[nltk_data]    |   Package tagsets is already up-to-date!\n",
            "[nltk_data]    | Downloading package panlex_swadesh to\n",
            "[nltk_data]    |     /root/nltk_data...\n",
            "[nltk_data]    |   Package panlex_swadesh is already up-to-date!\n",
            "[nltk_data]    | Downloading package averaged_perceptron_tagger to\n",
            "[nltk_data]    |     /root/nltk_data...\n",
            "[nltk_data]    |   Package averaged_perceptron_tagger is already up-\n",
            "[nltk_data]    |       to-date!\n",
            "[nltk_data]    | \n",
            "[nltk_data]  Done downloading collection book\n"
          ],
          "name": "stdout"
        },
        {
          "output_type": "execute_result",
          "data": {
            "text/plain": [
              "[(',', 11454),\n",
              " ('.', 6928),\n",
              " ('to', 5239),\n",
              " ('the', 5201),\n",
              " ('and', 4896),\n",
              " ('of', 4291),\n",
              " ('i', 3178),\n",
              " ('a', 3129),\n",
              " ('it', 2528),\n",
              " ('her', 2469),\n",
              " ('was', 2398),\n",
              " ('she', 2340),\n",
              " (';', 2199),\n",
              " ('in', 2188),\n",
              " ('not', 2140),\n",
              " ('\"', 2004),\n",
              " ('you', 1980),\n",
              " ('be', 1975),\n",
              " ('that', 1806),\n",
              " ('he', 1806),\n",
              " ('had', 1624),\n",
              " ('but', 1441),\n",
              " ('as', 1436),\n",
              " ('--', 1382),\n",
              " ('for', 1347),\n",
              " ('have', 1320),\n",
              " ('is', 1240),\n",
              " ('with', 1217),\n",
              " ('very', 1202),\n",
              " ('mr', 1153),\n",
              " ('his', 1145),\n",
              " ('.\"', 1138),\n",
              " ('at', 1031),\n",
              " (\"'\", 1007),\n",
              " ('so', 974),\n",
              " ('s', 935),\n",
              " ('emma', 865),\n",
              " ('all', 845),\n",
              " ('could', 837),\n",
              " ('would', 820),\n",
              " ('been', 759),\n",
              " ('him', 759),\n",
              " ('no', 742),\n",
              " ('my', 728),\n",
              " ('mrs', 699),\n",
              " ('on', 692),\n",
              " ('.--', 685),\n",
              " ('any', 654),\n",
              " ('do', 640),\n",
              " ('were', 600)]"
            ]
          },
          "metadata": {
            "tags": []
          },
          "execution_count": 66
        }
      ]
    },
    {
      "cell_type": "code",
      "metadata": {
        "id": "Uy2GXWOsWSKH",
        "outputId": "9c9d8f21-734c-4805-b9e2-7873c1ccd150",
        "colab": {
          "base_uri": "https://localhost:8080/"
        }
      },
      "source": [
        "print(fdist['emma'])\n",
        "print(fdist['the'])"
      ],
      "execution_count": 67,
      "outputs": [
        {
          "output_type": "stream",
          "text": [
            "865\n",
            "5201\n"
          ],
          "name": "stdout"
        }
      ]
    },
    {
      "cell_type": "code",
      "metadata": {
        "id": "GC-4lWr0axt_"
      },
      "source": [
        "import re\n",
        "def makeAlphaFreqDist(words):\n",
        "  adist = FreqDist()\n",
        "  pattern = re.compile('.*[^a-z].*')\n",
        "  for word in words:\n",
        "    if not pattern.match(word):\n",
        "      adist.update([word])\n",
        "  return adist"
      ],
      "execution_count": 68,
      "outputs": []
    },
    {
      "cell_type": "code",
      "metadata": {
        "id": "DyJHN-rLcVg4",
        "outputId": "28e04609-f39a-42a5-a389-2e8fee0a23e1",
        "colab": {
          "base_uri": "https://localhost:8080/"
        }
      },
      "source": [
        "adist = makeAlphaFreqDist(emmawords)\n",
        "adist.most_common(50)"
      ],
      "execution_count": 69,
      "outputs": [
        {
          "output_type": "execute_result",
          "data": {
            "text/plain": [
              "[('to', 5239),\n",
              " ('the', 5201),\n",
              " ('and', 4896),\n",
              " ('of', 4291),\n",
              " ('i', 3178),\n",
              " ('a', 3129),\n",
              " ('it', 2528),\n",
              " ('her', 2469),\n",
              " ('was', 2398),\n",
              " ('she', 2340),\n",
              " ('in', 2188),\n",
              " ('not', 2140),\n",
              " ('you', 1980),\n",
              " ('be', 1975),\n",
              " ('that', 1806),\n",
              " ('he', 1806),\n",
              " ('had', 1624),\n",
              " ('but', 1441),\n",
              " ('as', 1436),\n",
              " ('for', 1347),\n",
              " ('have', 1320),\n",
              " ('is', 1240),\n",
              " ('with', 1217),\n",
              " ('very', 1202),\n",
              " ('mr', 1153),\n",
              " ('his', 1145),\n",
              " ('at', 1031),\n",
              " ('so', 974),\n",
              " ('s', 935),\n",
              " ('emma', 865),\n",
              " ('all', 845),\n",
              " ('could', 837),\n",
              " ('would', 820),\n",
              " ('been', 759),\n",
              " ('him', 759),\n",
              " ('no', 742),\n",
              " ('my', 728),\n",
              " ('mrs', 699),\n",
              " ('on', 692),\n",
              " ('any', 654),\n",
              " ('do', 640),\n",
              " ('were', 600),\n",
              " ('miss', 599),\n",
              " ('me', 573),\n",
              " ('by', 571),\n",
              " ('will', 570),\n",
              " ('must', 567),\n",
              " ('which', 556),\n",
              " ('there', 549),\n",
              " ('from', 546)]"
            ]
          },
          "metadata": {
            "tags": []
          },
          "execution_count": 69
        }
      ]
    },
    {
      "cell_type": "markdown",
      "metadata": {
        "id": "f77zVxTllp-H"
      },
      "source": [
        "## Print out the 30 top words"
      ]
    },
    {
      "cell_type": "code",
      "metadata": {
        "id": "0J_Rj3j2dRU6",
        "outputId": "6aa778da-6f96-4a9f-cca2-9156988ea3a5",
        "colab": {
          "base_uri": "https://localhost:8080/"
        }
      },
      "source": [
        "for word,\tfreq in adist.most_common(30):\n",
        "  print(word, freq)"
      ],
      "execution_count": 70,
      "outputs": [
        {
          "output_type": "stream",
          "text": [
            "to 5239\n",
            "the 5201\n",
            "and 4896\n",
            "of 4291\n",
            "i 3178\n",
            "a 3129\n",
            "it 2528\n",
            "her 2469\n",
            "was 2398\n",
            "she 2340\n",
            "in 2188\n",
            "not 2140\n",
            "you 1980\n",
            "be 1975\n",
            "that 1806\n",
            "he 1806\n",
            "had 1624\n",
            "but 1441\n",
            "as 1436\n",
            "for 1347\n",
            "have 1320\n",
            "is 1240\n",
            "with 1217\n",
            "very 1202\n",
            "mr 1153\n",
            "his 1145\n",
            "at 1031\n",
            "so 974\n",
            "s 935\n",
            "emma 865\n"
          ],
          "name": "stdout"
        }
      ]
    },
    {
      "cell_type": "markdown",
      "metadata": {
        "id": "dJn7PVfDliba"
      },
      "source": [
        "## Try it out"
      ]
    },
    {
      "cell_type": "code",
      "metadata": {
        "id": "YFWBm9Godef9",
        "outputId": "7613783e-6a42-4daa-bed5-4154d4206d9d",
        "colab": {
          "base_uri": "https://localhost:8080/"
        }
      },
      "source": [
        "file2 = nltk.corpus.gutenberg.fileids()[-6]\n",
        "mobytext = nltk.corpus.gutenberg.raw(file2)\n",
        "mobytokens = nltk.wordpunct_tokenize(mobytext)\n",
        "mobywords = [w.lower( ) for w in mobytokens]\n",
        "fdist2 = FreqDist(mobywords)\n",
        "fdist2.most_common(50)"
      ],
      "execution_count": 71,
      "outputs": [
        {
          "output_type": "execute_result",
          "data": {
            "text/plain": [
              "[(',', 18713),\n",
              " ('the', 14431),\n",
              " ('.', 6862),\n",
              " ('of', 6609),\n",
              " ('and', 6430),\n",
              " ('a', 4736),\n",
              " ('to', 4625),\n",
              " ('in', 4172),\n",
              " (';', 4072),\n",
              " ('that', 3085),\n",
              " (\"'\", 2684),\n",
              " ('-', 2552),\n",
              " ('his', 2530),\n",
              " ('it', 2522),\n",
              " ('i', 2127),\n",
              " ('he', 1896),\n",
              " ('but', 1818),\n",
              " ('s', 1802),\n",
              " ('as', 1741),\n",
              " ('is', 1725),\n",
              " ('with', 1722),\n",
              " ('was', 1644),\n",
              " ('for', 1617),\n",
              " ('all', 1526),\n",
              " ('\"', 1478),\n",
              " ('this', 1394),\n",
              " ('at', 1319),\n",
              " ('!', 1269),\n",
              " ('whale', 1226),\n",
              " ('by', 1204),\n",
              " ('not', 1151),\n",
              " ('from', 1088),\n",
              " ('--', 1070),\n",
              " ('him', 1067),\n",
              " ('so', 1065),\n",
              " ('on', 1062),\n",
              " ('be', 1045),\n",
              " ('one', 921),\n",
              " ('you', 894),\n",
              " ('there', 869),\n",
              " ('now', 785),\n",
              " ('had', 779),\n",
              " ('have', 768),\n",
              " ('or', 713),\n",
              " ('were', 684),\n",
              " ('they', 667),\n",
              " ('which', 648),\n",
              " ('like', 647),\n",
              " ('?', 637),\n",
              " ('me', 633)]"
            ]
          },
          "metadata": {
            "tags": []
          },
          "execution_count": 71
        }
      ]
    },
    {
      "cell_type": "code",
      "metadata": {
        "id": "Vsibuc3VhRki",
        "outputId": "0da94406-d82c-4dd7-d47e-59fd2039fd7b",
        "colab": {
          "base_uri": "https://localhost:8080/"
        }
      },
      "source": [
        "print(fdist2['whales'])\n",
        "print(fdist2['this'])"
      ],
      "execution_count": 72,
      "outputs": [
        {
          "output_type": "stream",
          "text": [
            "268\n",
            "1394\n"
          ],
          "name": "stdout"
        }
      ]
    },
    {
      "cell_type": "code",
      "metadata": {
        "id": "ZeadLY0Dg1hG",
        "outputId": "f5ab8a39-d050-47ed-ace4-cf98d42a9835",
        "colab": {
          "base_uri": "https://localhost:8080/"
        }
      },
      "source": [
        "adist2 = makeAlphaFreqDist(mobywords)\n",
        "adist2.most_common(50)"
      ],
      "execution_count": 73,
      "outputs": [
        {
          "output_type": "execute_result",
          "data": {
            "text/plain": [
              "[('the', 14431),\n",
              " ('of', 6609),\n",
              " ('and', 6430),\n",
              " ('a', 4736),\n",
              " ('to', 4625),\n",
              " ('in', 4172),\n",
              " ('that', 3085),\n",
              " ('his', 2530),\n",
              " ('it', 2522),\n",
              " ('i', 2127),\n",
              " ('he', 1896),\n",
              " ('but', 1818),\n",
              " ('s', 1802),\n",
              " ('as', 1741),\n",
              " ('is', 1725),\n",
              " ('with', 1722),\n",
              " ('was', 1644),\n",
              " ('for', 1617),\n",
              " ('all', 1526),\n",
              " ('this', 1394),\n",
              " ('at', 1319),\n",
              " ('whale', 1226),\n",
              " ('by', 1204),\n",
              " ('not', 1151),\n",
              " ('from', 1088),\n",
              " ('him', 1067),\n",
              " ('so', 1065),\n",
              " ('on', 1062),\n",
              " ('be', 1045),\n",
              " ('one', 921),\n",
              " ('you', 894),\n",
              " ('there', 869),\n",
              " ('now', 785),\n",
              " ('had', 779),\n",
              " ('have', 768),\n",
              " ('or', 713),\n",
              " ('were', 684),\n",
              " ('they', 667),\n",
              " ('which', 648),\n",
              " ('like', 647),\n",
              " ('me', 633),\n",
              " ('then', 630),\n",
              " ('their', 620),\n",
              " ('what', 618),\n",
              " ('some', 618),\n",
              " ('when', 606),\n",
              " ('are', 598),\n",
              " ('an', 596),\n",
              " ('my', 589),\n",
              " ('no', 586)]"
            ]
          },
          "metadata": {
            "tags": []
          },
          "execution_count": 73
        }
      ]
    }
  ]
}